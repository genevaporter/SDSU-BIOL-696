{
 "cells": [
  {
   "cell_type": "code",
   "execution_count": 1,
   "metadata": {},
   "outputs": [],
   "source": [
    "import re\n",
    "#import string\n",
    "import math\n",
    "\n",
    "standard_code = {\n",
    "     \"UUU\": \"F\", \"UUC\": \"F\", \"UUA\": \"L\", \"UUG\": \"L\", \"UCU\": \"S\",\n",
    "     \"UCC\": \"S\", \"UCA\": \"S\", \"UCG\": \"S\", \"UAU\": \"Y\", \"UAC\": \"Y\",\n",
    "     \"UAA\": \"*\", \"UAG\": \"*\", \"UGA\": \"*\", \"UGU\": \"C\", \"UGC\": \"C\",\n",
    "     \"UGG\": \"W\", \"CUU\": \"L\", \"CUC\": \"L\", \"CUA\": \"L\", \"CUG\": \"L\",\n",
    "     \"CCU\": \"P\", \"CCC\": \"P\", \"CCA\": \"P\", \"CCG\": \"P\", \"CAU\": \"H\",\n",
    "     \"CAC\": \"H\", \"CAA\": \"Q\", \"CAG\": \"Q\", \"CGU\": \"R\", \"CGC\": \"R\",\n",
    "     \"CGA\": \"R\", \"CGG\": \"R\", \"AUU\": \"I\", \"AUC\": \"I\", \"AUA\": \"I\",\n",
    "     \"AUG\": \"M\", \"ACU\": \"T\", \"ACC\": \"T\", \"ACA\": \"T\", \"ACG\": \"T\",\n",
    "     \"AAU\": \"N\", \"AAC\": \"N\", \"AAA\": \"K\", \"AAG\": \"K\", \"AGU\": \"S\",\n",
    "     \"AGC\": \"S\", \"AGA\": \"R\", \"AGG\": \"R\", \"GUU\": \"V\", \"GUC\": \"V\",\n",
    "     \"GUA\": \"V\", \"GUG\": \"V\", \"GCU\": \"A\", \"GCC\": \"A\", \"GCA\": \"A\",\n",
    "     \"GCG\": \"A\", \"GAU\": \"D\", \"GAC\": \"D\", \"GAA\": \"E\", \"GAG\": \"E\",\n",
    "     \"GGU\": \"G\", \"GGC\": \"G\", \"GGA\": \"G\", \"GGG\": \"G\"}\n",
    "\n",
    "kyte_doolittle = {\n",
    "    'A':1.8,  'C':2.5,  'D':-3.5, 'E':-3.5, 'F':2.8,\n",
    "    'G':-0.4, 'H':-3.2, 'I':4.5,  'K':-3.9, 'L':3.8,\n",
    "    'M':1.9,  'N':-3.5, 'P':-1.6, 'Q':-3.5, 'R':-4.5,\n",
    "    'S':-0.8, 'T':-0.7, 'V':4.2,  'W':-0.9, 'Y':-1.3,\n",
    "    'X':0}"
   ]
  },
  {
   "cell_type": "code",
   "execution_count": 2,
   "metadata": {},
   "outputs": [],
   "source": [
    "## Seq class\n",
    "\n",
    "class Seq:\n",
    "    \n",
    "    def __init__ (self, sequence, gene, species, kmers=''):\n",
    "        self.sequence = sequence.strip().upper()\n",
    "        self.gene = gene\n",
    "        self.species = species    \n",
    "        self.kmers = []\n",
    "    \n",
    "    def __str__(self):\n",
    "        return self.sequence\n",
    "    \n",
    "    def print_record(self):\n",
    "        print(self.species +\" \"+ self.gene +\" : \"+ self.sequence)\n",
    "    \n",
    "    def make_kmers(self, subsequence_length = 3):\n",
    "        self.kmers = []\n",
    "        total_sequence_length = len(self.sequence)\n",
    "        for x in range(total_sequence_length-subsequence_length+1):\n",
    "            self.kmers.append(self.sequence[x])\n",
    "            for y in range(1,subsequence_length):\n",
    "                self.kmers[x] += self.sequence[x+y]\n",
    "    \n",
    "    def fasta(self):\n",
    "        return \">\" + self.species + \" \" + self.gene + \"\\n\" + self.sequence\n",
    "            \n",
    "    \n",
    "    \n",
    "        "
   ]
  },
  {
   "cell_type": "code",
   "execution_count": 3,
   "metadata": {},
   "outputs": [
    {
     "name": "stdout",
     "output_type": "stream",
     "text": [
      "H.sapiens my_gene : GATATAGGACCTTTAGGACCAC\n",
      "GATATAGGACCTTTAGGACCAC\n",
      "my_gene\n",
      "H.sapiens\n",
      "['GATAT', 'ATATA', 'TATAG', 'ATAGG', 'TAGGA', 'AGGAC', 'GGACC', 'GACCT', 'ACCTT', 'CCTTT', 'CTTTA', 'TTTAG', 'TTAGG', 'TAGGA', 'AGGAC', 'GGACC', 'GACCA', 'ACCAC']\n",
      ">H.sapiens my_gene\n",
      "GATATAGGACCTTTAGGACCAC\n"
     ]
    }
   ],
   "source": [
    "## Testing class Seq\n",
    "\n",
    "s = Seq(\"    gATATAGGACctttaGGACCAC    \", \"my_gene\", \"H.sapiens\")\n",
    "s.print_record()\n",
    "\n",
    "print(s)\n",
    "print(s.gene)\n",
    "print(s.species)\n",
    "\n",
    "s.make_kmers(5)\n",
    "print(s.kmers)\n",
    "\n",
    "print(s.fasta())"
   ]
  },
  {
   "cell_type": "code",
   "execution_count": 4,
   "metadata": {},
   "outputs": [],
   "source": [
    "## DNA class\n",
    "\n",
    "class DNA(Seq):\n",
    "    \n",
    "    def __init__(self, sequence, gene, species, gene_id, **kwargs):\n",
    "        super().__init__(sequence, gene, species)\n",
    "        self.sequence = re.sub('[^ATGCU]+', 'N', self.sequence)\n",
    "        self.gene_id = gene_id\n",
    "    \n",
    "    def analysis(self):\n",
    "        y = 0\n",
    "        for x in self.sequence:\n",
    "            if x == 'G' or x == 'C':\n",
    "                y += 1\n",
    "        return y\n",
    "    \n",
    "    def print_info(self):\n",
    "        print(self.gene_id + \" \" + self.species +\" \"+ self.gene +\" : \"+ self.sequence)\n",
    "\n",
    "        "
   ]
  },
  {
   "cell_type": "code",
   "execution_count": 5,
   "metadata": {},
   "outputs": [
    {
     "name": "stdout",
     "output_type": "stream",
     "text": [
      "AX5667 D.terebrans my_dna : GCGGCGGATNCTC\n",
      "GCGGCGGATNCTC\n",
      "9\n",
      ">D.terebrans my_dna\n",
      "GCGGCGGATNCTC\n"
     ]
    }
   ],
   "source": [
    "## Testing class DNA\n",
    "\n",
    "d = DNA(\"     GCGGCGGAT?CTC\\n\", \"my_dna\", \"D.terebrans\", \"AX5667\")\n",
    "d.print_info()\n",
    "\n",
    "print(d)\n",
    "print(d.analysis())\n",
    "print(d.fasta())"
   ]
  },
  {
   "cell_type": "code",
   "execution_count": 6,
   "metadata": {},
   "outputs": [],
   "source": [
    "class RNA(DNA):\n",
    "    \n",
    "    def __init__(self, sequence, gene, species, gene_id, codons='', **kwargs):\n",
    "        super().__init__(sequence, gene, species, gene_id)\n",
    "        self.sequence = re.sub('[T]', 'U', self.sequence)\n",
    "        self.codons = []\n",
    "        \n",
    "    def make_codons(self):\n",
    "        self.codons = []\n",
    "        partition = math.floor(len(self.sequence)/3)\n",
    "        for x in range(partition):\n",
    "            self.codons.append(self.sequence[3*x])\n",
    "            for y in range(1,3):\n",
    "                self.codons[x] += self.sequence[3*x+y]\n",
    "                \n",
    "    def translate(self):\n",
    "        translation = ''\n",
    "        for x in range(len(self.codons)):\n",
    "            if \"N\" in self.codons[x]:\n",
    "                translation += \"X\"\n",
    "            else:\n",
    "                translation += standard_code[self.codons[x]]\n",
    "        return translation\n",
    "            \n",
    "        "
   ]
  },
  {
   "cell_type": "code",
   "execution_count": 7,
   "metadata": {},
   "outputs": [
    {
     "name": "stdout",
     "output_type": "stream",
     "text": [
      "R5990999 G.gallus my_rna : GNAUAUAGGACCUUUAGGACCAC\n",
      "GNAUAUAGGACCUUUAGGACCAC\n",
      "['GNA', 'UAU', 'AGG', 'ACC', 'UUU', 'AGG', 'ACC']\n",
      "XYRTFRT\n",
      ">G.gallus my_rna\n",
      "GNAUAUAGGACCUUUAGGACCAC\n"
     ]
    }
   ],
   "source": [
    "r = RNA(\"    g?ATATAGGACctttaGGACCAC    \",\"my_rna\", \"G.gallus\", \"R5990999\")\n",
    "r.print_info()\n",
    "print(r)\n",
    "\n",
    "r.make_codons()\n",
    "print(r.codons)\n",
    "\n",
    "print(r.translate())\n",
    "print(r.fasta())"
   ]
  },
  {
   "cell_type": "code",
   "execution_count": 18,
   "metadata": {},
   "outputs": [],
   "source": [
    "class Protein(Seq):\n",
    "    \n",
    "    def __init__(self, sequence, gene, species, kmers, counts='', **kwargs):\n",
    "        super().__init__(sequence, gene, species, kmers)\n",
    "        self.sequence = re.sub('[^A-Z]', 'X', self.sequence)\n",
    "        self.counts = {}\n",
    "        self.aa_counts = {'A':0,'C':0,'D':0,'E':0,'F':0,\n",
    "                          'G':0,'H':0,'I':0,'K':0,'L':0,\n",
    "                          'M':0,'N':0,'P':0,'Q':0,'R':0,\n",
    "                          'S':0,'T':0,'V':0,'W':0,'Y':0,\n",
    "                          'X' :0}\n",
    "        # Note: The best way I could get my code to work was to\n",
    "        # eliminate \"U\" as a definition in aa_counts, since it \n",
    "        # does not exist in the kyte_doolittle dictionary. I Hope \n",
    "        # this is correct.\n",
    "        \n",
    "    def tabulate_amino_acids(self):\n",
    "        for x in self.sequence:\n",
    "            self.aa_counts[x] += 1\n",
    "        return 0\n",
    "    \n",
    "    def total_hydro(self):\n",
    "        total = 0\n",
    "        for x in self.aa_counts:\n",
    "            total += self.aa_counts[x] * kyte_doolittle[x]\n",
    "        return total\n",
    "    \n",
    "    def hydro_scan(self):\n",
    "        if self.kmers == []:\n",
    "            self.make_kmers(5)\n",
    "        hydro_list = []\n",
    "        kmer_length = len(self.kmers[0])\n",
    "        for x in self.kmers:\n",
    "            hydro_list.append(0)\n",
    "            kmer_index = self.kmers.index(x)\n",
    "            for y in x:\n",
    "                hydro_list[kmer_index] += kyte_doolittle[y]/kmer_length          \n",
    "        return hydro_list\n",
    "    \n",
    "    \n",
    "        "
   ]
  },
  {
   "cell_type": "code",
   "execution_count": 20,
   "metadata": {},
   "outputs": [
    {
     "name": "stdout",
     "output_type": "stream",
     "text": [
      "WCVALKKKCCYHHHHHXXXYYYRSQ\n",
      "{'A': 1, 'C': 3, 'D': 0, 'E': 0, 'F': 0, 'G': 0, 'H': 5, 'I': 0, 'K': 3, 'L': 1, 'M': 0, 'N': 0, 'P': 0, 'Q': 1, 'R': 1, 'S': 1, 'T': 0, 'V': 1, 'W': 1, 'Y': 4, 'X': 3}\n",
      ">D.melanogaster my_prot\n",
      "WCVALKKKCCYHHHHHXXXYYYRSQ\n"
     ]
    }
   ],
   "source": [
    "p = Protein(\" WCVALKKKCCYhhhhh---yyyrsQ\\t\", \"my_prot\", \"D.melanogaster\", \"560008009\")\n",
    "print(p)\n",
    "\n",
    "p.tabulate_amino_acids()\n",
    "print(p.aa_counts)\n",
    "\n",
    "print(p.fasta())\n"
   ]
  },
  {
   "cell_type": "code",
   "execution_count": 10,
   "metadata": {},
   "outputs": [
    {
     "name": "stdout",
     "output_type": "stream",
     "text": [
      "VIKING\n",
      "['VI', 'IK', 'KI', 'IN', 'NG']\n",
      "{'A': 0, 'C': 0, 'D': 0, 'E': 0, 'F': 0, 'G': 1, 'H': 0, 'I': 2, 'K': 1, 'L': 0, 'M': 0, 'N': 1, 'P': 0, 'Q': 0, 'R': 0, 'S': 0, 'T': 0, 'V': 1, 'W': 0, 'Y': 0, 'X': 0}\n",
      "5.3999999999999995\n",
      "[4.35, 0.30000000000000004, 0.30000000000000004, 0.5, -1.95]\n"
     ]
    }
   ],
   "source": [
    "testp = Protein('VIKING','test','unknown',999)\n",
    "print(testp)\n",
    "\n",
    "testp.make_kmers(2)\n",
    "print(testp.kmers)\n",
    "\n",
    "testp.tabulate_amino_acids()\n",
    "print(testp.aa_counts)\n",
    "\n",
    "x = testp.total_hydro()\n",
    "print(x)\n",
    "\n",
    "dat = testp.hydro_scan()\n",
    "print(dat)"
   ]
  },
  {
   "cell_type": "code",
   "execution_count": null,
   "metadata": {},
   "outputs": [],
   "source": []
  }
 ],
 "metadata": {
  "kernelspec": {
   "display_name": "Python 3",
   "language": "python",
   "name": "python3"
  },
  "language_info": {
   "codemirror_mode": {
    "name": "ipython",
    "version": 3
   },
   "file_extension": ".py",
   "mimetype": "text/x-python",
   "name": "python",
   "nbconvert_exporter": "python",
   "pygments_lexer": "ipython3",
   "version": "3.7.3"
  }
 },
 "nbformat": 4,
 "nbformat_minor": 2
}
