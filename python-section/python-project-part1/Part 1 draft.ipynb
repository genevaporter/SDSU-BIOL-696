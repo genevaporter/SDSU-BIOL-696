{
 "cells": [
  {
   "cell_type": "code",
   "execution_count": 14,
   "metadata": {},
   "outputs": [],
   "source": [
    "import re\n",
    "import string\n",
    "import math\n",
    "\n",
    "standard_code = {\n",
    "     \"UUU\": \"F\", \"UUC\": \"F\", \"UUA\": \"L\", \"UUG\": \"L\", \"UCU\": \"S\",\n",
    "     \"UCC\": \"S\", \"UCA\": \"S\", \"UCG\": \"S\", \"UAU\": \"Y\", \"UAC\": \"Y\",\n",
    "     \"UAA\": \"*\", \"UAG\": \"*\", \"UGA\": \"*\", \"UGU\": \"C\", \"UGC\": \"C\",\n",
    "     \"UGG\": \"W\", \"CUU\": \"L\", \"CUC\": \"L\", \"CUA\": \"L\", \"CUG\": \"L\",\n",
    "     \"CCU\": \"P\", \"CCC\": \"P\", \"CCA\": \"P\", \"CCG\": \"P\", \"CAU\": \"H\",\n",
    "     \"CAC\": \"H\", \"CAA\": \"Q\", \"CAG\": \"Q\", \"CGU\": \"R\", \"CGC\": \"R\",\n",
    "     \"CGA\": \"R\", \"CGG\": \"R\", \"AUU\": \"I\", \"AUC\": \"I\", \"AUA\": \"I\",\n",
    "     \"AUG\": \"M\", \"ACU\": \"T\", \"ACC\": \"T\", \"ACA\": \"T\", \"ACG\": \"T\",\n",
    "     \"AAU\": \"N\", \"AAC\": \"N\", \"AAA\": \"K\", \"AAG\": \"K\", \"AGU\": \"S\",\n",
    "     \"AGC\": \"S\", \"AGA\": \"R\", \"AGG\": \"R\", \"GUU\": \"V\", \"GUC\": \"V\",\n",
    "     \"GUA\": \"V\", \"GUG\": \"V\", \"GCU\": \"A\", \"GCC\": \"A\", \"GCA\": \"A\",\n",
    "     \"GCG\": \"A\", \"GAU\": \"D\", \"GAC\": \"D\", \"GAA\": \"E\", \"GAG\": \"E\",\n",
    "     \"GGU\": \"G\", \"GGC\": \"G\", \"GGA\": \"G\", \"GGG\": \"G\"}\n",
    "\n",
    "kyte_doolittle = {\n",
    "    \"A\": \"1.8\", \"R\": \"-4.5\", \"N\": \"-3.5\", \"D\": \"-3.5\", \"C\": \"2.5\", \n",
    "    \"Q\": \"-3.5\", \"E\": \"-3.5\", \"G\": \"-0.4\", \"H\": \"-3.2\", \"I\": \"4.5\", \n",
    "    \"L\": \"3.8\", \"K\": \"-3.9\", \"M\": \"1.9\", \"F\": \"2.8\", \"P\": \"-1.6\", \n",
    "    \"S\": \"-0.8\", \"T\": \"-0.7\", \"W\": \"-0.9\", \"Y\": \"-1.3\", \"V\": \"4.2\"}"
   ]
  },
  {
   "cell_type": "code",
   "execution_count": 2,
   "metadata": {},
   "outputs": [],
   "source": [
    "## Seq class\n",
    "\n",
    "class Seq:\n",
    "    \n",
    "    def __init__ (self, sequence, gene, species, kmers=''):\n",
    "        self.sequence = sequence.strip().upper()\n",
    "        self.gene = gene\n",
    "        self.species = species    \n",
    "        self.kmers = []\n",
    "    \n",
    "    def __str__(self):\n",
    "        return self.sequence\n",
    "    \n",
    "    def print_record(self):\n",
    "        print(self.species +\", \"+ self.gene +\" : \"+ self.sequence)\n",
    "    \n",
    "    def make_kmers(self, subsequence_length = 3):\n",
    "        self.kmers = []\n",
    "        total_sequence_length = len(self.sequence)\n",
    "        for x in range(total_sequence_length-subsequence_length+1):\n",
    "            self.kmers.append(self.sequence[x])\n",
    "            for y in range(1,subsequence_length):\n",
    "                self.kmers[x] = self.kmers[x] + self.sequence[x+y]\n",
    "    \n",
    "    def fasta(self):\n",
    "        return \"\\n>\" + self.species + \" \" + self.gene + \"\\n\" + self.sequence\n",
    "            \n",
    "    \n",
    "    \n",
    "        "
   ]
  },
  {
   "cell_type": "code",
   "execution_count": 3,
   "metadata": {},
   "outputs": [
    {
     "name": "stdout",
     "output_type": "stream",
     "text": [
      "H.sapiens, my_gene : AT 9ATAG\n",
      "my_gene\n",
      "H.sapiens\n",
      "AT 9ATAG\n",
      "['AT ', 'T 9', ' 9A', '9AT', 'ATA', 'TAG']\n",
      "\n",
      ">H.sapiens my_gene\n",
      "AT 9ATAG\n"
     ]
    }
   ],
   "source": [
    "## Testing class Seq\n",
    "\n",
    "myseq=Seq(\"    aT 9ATAG\",\"my_gene\",\"H.sapiens\")\n",
    "myseq.print_record()\n",
    "print(myseq.gene)\n",
    "print(myseq.species)\n",
    "print(myseq)    \n",
    "myseq.make_kmers(3)\n",
    "print(myseq.kmers)\n",
    "print(myseq.fasta())"
   ]
  },
  {
   "cell_type": "code",
   "execution_count": 4,
   "metadata": {},
   "outputs": [],
   "source": [
    "## DNA class\n",
    "\n",
    "class DNA(Seq):\n",
    "    \n",
    "    def __init__(self, sequence, gene, species, gene_id, **kwargs):\n",
    "        super().__init__(sequence, gene, species)\n",
    "        self.sequence = re.sub('[^ATGCU]', 'N', sequence)\n",
    "        self.gene_id = gene_id\n",
    "    \n",
    "    def analysis(self):\n",
    "        y = 0\n",
    "        for x in self.sequence:\n",
    "            if x == 'G' or x == 'C':\n",
    "                y = y + 1\n",
    "        return y\n",
    "    \n",
    "    def print_info(self):\n",
    "        print(self.gene_id + \" \" + self.species +\", \"+ self.gene +\" : \"+ self.sequence)"
   ]
  },
  {
   "cell_type": "code",
   "execution_count": 5,
   "metadata": {},
   "outputs": [
    {
     "name": "stdout",
     "output_type": "stream",
     "text": [
      "D.terebrans, my_dna : GATCTC\n",
      "GATCTC\n",
      "Mexico\n",
      "3\n",
      "AX5667.2 D.terebrans, my_dna : GATCTC\n"
     ]
    }
   ],
   "source": [
    "\n",
    "\n",
    "\n",
    "## Testing class DNA\n",
    "\n",
    "d=DNA(\"GATCTC\",\"my_dna\",\"D.terebrans\",\"AX5667.2\")\n",
    "d.print_record()\n",
    "print(d)\n",
    "\n",
    "d.source=\"Mexico\"\n",
    "print(d.source)\n",
    "print(d.analysis())\n",
    "d.print_info()"
   ]
  },
  {
   "cell_type": "code",
   "execution_count": 6,
   "metadata": {},
   "outputs": [],
   "source": [
    "class RNA(DNA):\n",
    "    \n",
    "    def __init__(self, sequence, gene, species, gene_id, codons='', **kwargs):\n",
    "        super().__init__(sequence, gene, species, gene_id)\n",
    "        self.sequence = re.sub('[T]', 'U', sequence)\n",
    "        self.codons = []\n",
    "        \n",
    "    def make_codons(self):\n",
    "        self.codons = []\n",
    "        partition = math.floor(len(self.sequence)/3)\n",
    "        for x in range(partition):\n",
    "            self.codons.append(self.sequence[3*x])\n",
    "            for y in range(1,3):\n",
    "                self.codons[x] = self.codons[x] + self.sequence[3*x+y]\n",
    "                \n",
    "    def translate(self):\n",
    "        for x in range(len(self.codons)):\n",
    "            self.codons[x] = standard_code[self.codons[x]]\n",
    "            \n",
    "        "
   ]
  },
  {
   "cell_type": "code",
   "execution_count": 7,
   "metadata": {},
   "outputs": [
    {
     "name": "stdout",
     "output_type": "stream",
     "text": [
      "D.terebrans, my_dna : GAUCUCGAUCUCGAUCUAA\n",
      "['GAU', 'CUC', 'GAU', 'CUC', 'GAU', 'CUA']\n",
      "['D', 'L', 'D', 'L', 'D', 'L']\n"
     ]
    }
   ],
   "source": [
    "r = RNA(\"GATCTCGATCTCGATCTAA\",\"my_dna\",\"D.terebrans\",\"AX5667.2\")\n",
    "r.print_record()\n",
    "r.make_codons()\n",
    "print(r.codons)\n",
    "r.translate()\n",
    "print(r.codons)"
   ]
  },
  {
   "cell_type": "code",
   "execution_count": 12,
   "metadata": {},
   "outputs": [],
   "source": [
    "class Protein(Seq):\n",
    "    \n",
    "    def __init__(self, sequence, gene, species, kmers='', counts='', **kwargs):\n",
    "        super().__init__(sequence, gene, species, kmers)\n",
    "        self.sequence = re.sub('[^A-Z]+', 'X', sequence)\n",
    "        self.counts = {}\n",
    "        \n",
    "    def tabulate_amino_acids(self):\n",
    "        # counts amino acids in self.sequence\n",
    "        # adds definitions to self.counts\n",
    "        return 0\n",
    "    \n",
    "    def total_hydro(self, subsequence):\n",
    "        # use hydrophobicity value from aa_couts for a sequence?\n",
    "        return 0\n",
    "    \n",
    "    def hydro_scan(self):\n",
    "        if self.kmers == []:\n",
    "            self.make_kmers(5)\n",
    "        hydro_list = []\n",
    "        for x in range(len(self.kmers)):\n",
    "            hydro_list.append(kmer_average)\n",
    "        return hydro_list\n",
    "    \n",
    "    aa_counts = {\"H\": \"0\", \"F\": \"0\", \"R\": \"0\", \"P\": \"0\", \"N\": \"0\",\n",
    "                 \"I\": \"0\", \"T\": \"0\", \"C\": \"0\", \"Y\": \"0\", \"E\": \"0\",\n",
    "                 \"L\": \"0\", \"W\": \"0\", \"Q\": \"0\", \"A\": \"0\", \"S\": \"0\",\n",
    "                 \"K\": \"0\", \"V\": \"0\", \"G\": \"0\", \"D\": \"0\", \"U\": \"0\",\n",
    "                 \"M\": \"0\", \"O\": \"0\"}\n",
    "        "
   ]
  },
  {
   "cell_type": "code",
   "execution_count": 13,
   "metadata": {},
   "outputs": [
    {
     "name": "stdout",
     "output_type": "stream",
     "text": [
      "{'first': 'A', 'Second': 'B', 'third': 'C'}\n"
     ]
    }
   ],
   "source": [
    "p = Protein(\"    aT 9ATAG\",\"my_gene\",\"H.sapiens\")\n",
    "\n",
    "p.tabulate_amino_acids()\n",
    "print(p.counts)\n",
    "\n",
    "\n",
    "\n",
    "\n",
    "\n",
    "\n",
    "\n",
    "\n",
    "\n",
    "\n",
    "\n"
   ]
  },
  {
   "cell_type": "code",
   "execution_count": null,
   "metadata": {},
   "outputs": [],
   "source": []
  }
 ],
 "metadata": {
  "kernelspec": {
   "display_name": "Python 3",
   "language": "python",
   "name": "python3"
  },
  "language_info": {
   "codemirror_mode": {
    "name": "ipython",
    "version": 3
   },
   "file_extension": ".py",
   "mimetype": "text/x-python",
   "name": "python",
   "nbconvert_exporter": "python",
   "pygments_lexer": "ipython3",
   "version": "3.7.3"
  }
 },
 "nbformat": 4,
 "nbformat_minor": 2
}
