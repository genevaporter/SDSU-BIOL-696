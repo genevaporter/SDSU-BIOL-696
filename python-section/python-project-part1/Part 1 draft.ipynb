{
 "cells": [
  {
   "cell_type": "code",
   "execution_count": 71,
   "metadata": {},
   "outputs": [],
   "source": [
    "## Seq class\n",
    "\n",
    "class Seq:\n",
    "    \n",
    "    def __init__ (self, sequence='', gene='', species='', kmers=''):\n",
    "        self.sequence = sequence.upper()\n",
    "        self.gene = gene\n",
    "        self.species = species    \n",
    "        self.kmers = []\n",
    "    \n",
    "    def print_record(self):\n",
    "        return self.sequence\n",
    "    \n",
    "    def __str__(self):\n",
    "        return self.species +\", \"+ self.gene +\" : \"+ self.sequence\n",
    "    \n",
    "    def make_kmers(self, subsequence_length):\n",
    "        total_sequence_length = len(self.sequence)\n",
    "        for x in range(total_sequence_length-subsequence_length+1):\n",
    "            self.kmers.append(self.sequence[x])\n",
    "            for y in range(1,subsequence_length):\n",
    "                self.kmers[x] = self.kmers[x] + self.sequence[x+y]\n",
    "    \n",
    "    def fasta(self):\n",
    "        return \"\\n\\n>\" + self.species + \" \" + self.gene + \"\\n\" + self.sequence\n",
    "            \n",
    "    \n",
    "    \n",
    "        "
   ]
  },
  {
   "cell_type": "code",
   "execution_count": 72,
   "metadata": {},
   "outputs": [
    {
     "name": "stdout",
     "output_type": "stream",
     "text": [
      "ATATAG\n",
      "my_gene\n",
      "H.sapiens\n",
      "H.sapiens, my_gene : ATATAG\n",
      "['ATA', 'TAT', 'ATA', 'TAG']\n"
     ]
    },
    {
     "data": {
      "text/plain": [
       "'\\n\\n>H.sapiens my_gene\\nATATAG'"
      ]
     },
     "execution_count": 72,
     "metadata": {},
     "output_type": "execute_result"
    }
   ],
   "source": [
    "## Testing class Seq\n",
    "\n",
    "myseq=Seq(\"ATATAG\",\"my_gene\",\"H.sapiens\")\n",
    "print(myseq.print_record())\n",
    "print(myseq.gene)\n",
    "print(myseq.species)\n",
    "print(myseq)    \n",
    "myseq.make_kmers(3)\n",
    "print(myseq.kmers)\n",
    "myseq.fasta()"
   ]
  },
  {
   "cell_type": "code",
   "execution_count": 34,
   "metadata": {},
   "outputs": [],
   "source": [
    "## DNA class\n",
    "\n",
    "class DNA(Seq):\n",
    "    \n",
    "    def __init__(self, sequence, gene, species, gene_id, **kwargs):\n",
    "        super().__init__(sequence, gene, species)\n",
    "    \n",
    "    def analysis(self):\n",
    "        y = 0\n",
    "        for x in self.sequence:\n",
    "            if x == 'g' or x == 'G' or x == 'c' or x == 'C':\n",
    "                y = y + 1\n",
    "        return y"
   ]
  },
  {
   "cell_type": "code",
   "execution_count": 19,
   "metadata": {},
   "outputs": [
    {
     "name": "stdout",
     "output_type": "stream",
     "text": [
      "ATATAG\n",
      "my_gene\n",
      "H.sapiens\n",
      "H.sapiens, my_gene : ATATAG\n"
     ]
    },
    {
     "ename": "NameError",
     "evalue": "name 'length' is not defined",
     "output_type": "error",
     "traceback": [
      "\u001b[0;31m---------------------------------------------------------------------------\u001b[0m",
      "\u001b[0;31mNameError\u001b[0m                                 Traceback (most recent call last)",
      "\u001b[0;32m<ipython-input-19-95a9c6374da5>\u001b[0m in \u001b[0;36m<module>\u001b[0;34m\u001b[0m\n\u001b[1;32m      6\u001b[0m \u001b[0mprint\u001b[0m\u001b[0;34m(\u001b[0m\u001b[0mmyseq\u001b[0m\u001b[0;34m.\u001b[0m\u001b[0mspecies\u001b[0m\u001b[0;34m)\u001b[0m\u001b[0;34m\u001b[0m\u001b[0;34m\u001b[0m\u001b[0m\n\u001b[1;32m      7\u001b[0m \u001b[0mprint\u001b[0m\u001b[0;34m(\u001b[0m\u001b[0mmyseq\u001b[0m\u001b[0;34m)\u001b[0m\u001b[0;34m\u001b[0m\u001b[0;34m\u001b[0m\u001b[0m\n\u001b[0;32m----> 8\u001b[0;31m \u001b[0mmyseq\u001b[0m\u001b[0;34m.\u001b[0m\u001b[0mmake_kmers\u001b[0m\u001b[0;34m(\u001b[0m\u001b[0;34m\"ggg\"\u001b[0m\u001b[0;34m)\u001b[0m\u001b[0;34m\u001b[0m\u001b[0;34m\u001b[0m\u001b[0m\n\u001b[0m\u001b[1;32m      9\u001b[0m \u001b[0mprint\u001b[0m\u001b[0;34m(\u001b[0m\u001b[0mmyseq\u001b[0m\u001b[0;34m.\u001b[0m\u001b[0mkmers\u001b[0m\u001b[0;34m)\u001b[0m\u001b[0;34m\u001b[0m\u001b[0;34m\u001b[0m\u001b[0m\n\u001b[1;32m     10\u001b[0m \u001b[0;31m## Testing class DNA\u001b[0m\u001b[0;34m\u001b[0m\u001b[0;34m\u001b[0m\u001b[0;34m\u001b[0m\u001b[0m\n",
      "\u001b[0;32m<ipython-input-17-23ee69a1668d>\u001b[0m in \u001b[0;36mmake_kmers\u001b[0;34m(self, to_append)\u001b[0m\n\u001b[1;32m     16\u001b[0m \u001b[0;34m\u001b[0m\u001b[0m\n\u001b[1;32m     17\u001b[0m     \u001b[0;32mdef\u001b[0m \u001b[0mmake_kmers\u001b[0m\u001b[0;34m(\u001b[0m\u001b[0mself\u001b[0m\u001b[0;34m,\u001b[0m \u001b[0mto_append\u001b[0m\u001b[0;34m)\u001b[0m\u001b[0;34m:\u001b[0m\u001b[0;34m\u001b[0m\u001b[0;34m\u001b[0m\u001b[0m\n\u001b[0;32m---> 18\u001b[0;31m         \u001b[0mlist_length\u001b[0m \u001b[0;34m=\u001b[0m \u001b[0mlength\u001b[0m\u001b[0;34m(\u001b[0m\u001b[0mto_append\u001b[0m\u001b[0;34m)\u001b[0m\u001b[0;34m\u001b[0m\u001b[0;34m\u001b[0m\u001b[0m\n\u001b[0m\u001b[1;32m     19\u001b[0m         \u001b[0;32mfor\u001b[0m \u001b[0mx\u001b[0m \u001b[0;32min\u001b[0m \u001b[0mrange\u001b[0m\u001b[0;34m(\u001b[0m\u001b[0mlist_length\u001b[0m\u001b[0;34m)\u001b[0m\u001b[0;34m:\u001b[0m\u001b[0;34m\u001b[0m\u001b[0;34m\u001b[0m\u001b[0m\n\u001b[1;32m     20\u001b[0m             \u001b[0mself\u001b[0m\u001b[0;34m.\u001b[0m\u001b[0mkmers\u001b[0m\u001b[0;34m.\u001b[0m\u001b[0mappend\u001b[0m\u001b[0;34m(\u001b[0m\u001b[0mto_append\u001b[0m\u001b[0;34m[\u001b[0m\u001b[0mx\u001b[0m\u001b[0;34m]\u001b[0m\u001b[0;34m)\u001b[0m\u001b[0;34m\u001b[0m\u001b[0;34m\u001b[0m\u001b[0m\n",
      "\u001b[0;31mNameError\u001b[0m: name 'length' is not defined"
     ]
    }
   ],
   "source": [
    "\n",
    "\n",
    "\n",
    "## Testing class DNA\n",
    "\n",
    "d=DNA(\"GATCTC\",\"my_dna\",\"D.terebrans\",\"AX5667.2\")\n",
    "d.print_record()\n",
    "print(d)\n",
    "\n",
    "d.source=\"Mexico\"\n",
    "print(d.source)\n",
    "print(d.analysis())"
   ]
  },
  {
   "cell_type": "code",
   "execution_count": 74,
   "metadata": {},
   "outputs": [
    {
     "name": "stdout",
     "output_type": "stream",
     "text": [
      "First Name: bob\n",
      "Last Name: zeller\n",
      "\n"
     ]
    }
   ],
   "source": [
    "class Person:\n",
    "\n",
    "    def __init__(self, first, last):\n",
    "        self.firstname = first\n",
    "        self.lastname = last\n",
    "\n",
    "    ##Add operator overload for print that prints\n",
    "    ##First Name: firstname\n",
    "    ##Last  Name: lastname\n",
    "        \n",
    "    def __str__(self):\n",
    "        return \"First Name: \" + self.firstname + \"\\nLast Name: \" + self.lastname + \"\\n\"\n",
    "    \n",
    "bob=Person('bob','zeller')\n",
    "print(bob)"
   ]
  }
 ],
 "metadata": {
  "kernelspec": {
   "display_name": "Python 3",
   "language": "python",
   "name": "python3"
  },
  "language_info": {
   "codemirror_mode": {
    "name": "ipython",
    "version": 3
   },
   "file_extension": ".py",
   "mimetype": "text/x-python",
   "name": "python",
   "nbconvert_exporter": "python",
   "pygments_lexer": "ipython3",
   "version": "3.7.3"
  }
 },
 "nbformat": 4,
 "nbformat_minor": 2
}
