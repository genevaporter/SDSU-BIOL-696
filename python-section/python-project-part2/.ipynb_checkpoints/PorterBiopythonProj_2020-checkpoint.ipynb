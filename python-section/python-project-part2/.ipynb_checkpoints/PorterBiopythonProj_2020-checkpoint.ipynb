{
 "cells": [
  {
   "cell_type": "markdown",
   "metadata": {},
   "source": [
    "# Python Project Part 2: Data Parsing with Biopython"
   ]
  },
  {
   "cell_type": "markdown",
   "metadata": {},
   "source": [
    "## Based in the Biopython tutorial Chapter 2, 5: Parsing sequence files\n",
    "Focus on Sars-COV-2 data"
   ]
  },
  {
   "cell_type": "code",
   "execution_count": 1,
   "metadata": {},
   "outputs": [],
   "source": [
    "from Bio import SeqIO\n",
    "from Bio import Entrez"
   ]
  },
  {
   "cell_type": "markdown",
   "metadata": {},
   "source": [
    "Try these examples from Chapter 2, Sections 2.4.1 - 2.4.2\n",
    "Then complete the exercises in Chapter 5 up to and including section 5.5.3\n",
    "Note: You will need to make some compressed verions of the files\n",
    "      and for the downloaded files in the exercise, use the examples in the tutorial.\n",
    "      \n",
    "      https://biopython.org/DIST/docs/tutorial/Tutorial.html#htoc47"
   ]
  },
  {
   "cell_type": "markdown",
   "metadata": {},
   "source": [
    "# CHAPTER 5 Tutorial Below"
   ]
  },
  {
   "cell_type": "markdown",
   "metadata": {},
   "source": [
    "Sections 5.1 to 5.5.3\n",
    "Make sure to put in a few notes with the markdown language. Briefly explain what each part is doing."
   ]
  },
  {
   "cell_type": "markdown",
   "metadata": {},
   "source": [
    "## 5.1 Parsing or Reading Sequences"
   ]
  },
  {
   "cell_type": "code",
   "execution_count": 2,
   "metadata": {},
   "outputs": [
    {
     "name": "stdout",
     "output_type": "stream",
     "text": [
      "MT081068.1\n",
      "Seq('ATGTCTGATAATGGACCCCAAAATCAGCGAAATGCACCCCGCATTACGTTTGGT...TAA', SingleLetterAlphabet())\n",
      "1260\n",
      "MT072667.1\n",
      "Seq('GTAGATGCTGTAAATTTACTTACTAATATGTTTACACCACTAATTCAACCTATT...ACT', SingleLetterAlphabet())\n",
      "670\n",
      "MT066159.1\n",
      "Seq('TAAACACCTCATACCACTTATGTACAAAGGACTTCCTTGGAATGTAGTGCGTAT...TTG', SingleLetterAlphabet())\n",
      "290\n",
      "MT050416.1\n",
      "Seq('TGATAGAGCCATGCCTAACATGCTTAGAATTATGGCCTCACTTGTTCTTGCTCG...CCT', SingleLetterAlphabet())\n",
      "562\n",
      "MT161607.1\n",
      "Seq('TACCTTCCCAGGTAACAAACCAACCAACTTTCGATCTCTTGTAGATCTGTTCTC...AAA', SingleLetterAlphabet())\n",
      "253\n",
      "MT081068.1\n",
      "Seq('ATGTCTGATAATGGACCCCAAAATCAGCGAAATGCACCCCGCATTACGTTTGGT...TAA', IUPACAmbiguousDNA())\n",
      "1260\n",
      "MT072667.1\n",
      "Seq('GTAGATGCTGTAAATTTACTTACTAATATGTTTACACCACTAATTCAACCTATT...ACT', IUPACAmbiguousDNA())\n",
      "670\n",
      "MT066159.1\n",
      "Seq('TAAACACCTCATACCACTTATGTACAAAGGACTTCCTTGGAATGTAGTGCGTAT...TTG', IUPACAmbiguousDNA())\n",
      "290\n",
      "MT050416.1\n",
      "Seq('TGATAGAGCCATGCCTAACATGCTTAGAATTATGGCCTCACTTGTTCTTGCTCG...CCT', IUPACAmbiguousDNA())\n",
      "562\n",
      "MT161607.1\n",
      "Seq('TACCTTCCCAGGTAACAAACCAACCAACTTTCGATCTCTTGTAGATCTGTTCTC...AAA', IUPACAmbiguousDNA())\n",
      "253\n"
     ]
    },
    {
     "data": {
      "text/plain": [
       "['MT081068.1', 'MT072667.1', 'MT066159.1', 'MT050416.1', 'MT161607.1']"
      ]
     },
     "execution_count": 2,
     "metadata": {},
     "output_type": "execute_result"
    }
   ],
   "source": [
    "# 5.1.1\n",
    "\n",
    "for seq_record in SeqIO.parse(\"sarscov2.fasta\", \"fasta\"):\n",
    "    print(seq_record.id)\n",
    "    print(repr(seq_record.seq))\n",
    "    print(len(seq_record))\n",
    "    \n",
    "for seq_record in SeqIO.parse(\"sarscov2.gbk\", \"genbank\"):\n",
    "    print(seq_record.id)\n",
    "    print(repr(seq_record.seq))\n",
    "    print(len(seq_record))\n",
    "    \n",
    "identifiers = [seq_record.id for seq_record in SeqIO.parse(\"sarscov2.gbk\", \"genbank\")]\n",
    "identifiers"
   ]
  },
  {
   "cell_type": "code",
   "execution_count": 3,
   "metadata": {},
   "outputs": [
    {
     "name": "stdout",
     "output_type": "stream",
     "text": [
      "MT081068.1\n",
      "MT081068.1 Severe acute respiratory syndrome coronavirus 2 isolate SARS-CoV-2/HS_194/human/2020/CHN nucleocapsid phosphoprotein (N) gene, complete cds\n",
      "MT072667.1\n",
      "MT072667.1 Severe acute respiratory syndrome coronavirus 2 isolate SARS-CoV-2/GHB-03021/human/2020/BEL orf1ab polyprotein gene, partial cds\n"
     ]
    }
   ],
   "source": [
    "# 5.1.2\n",
    "\n",
    "record_iterator = SeqIO.parse(\"sarscov2.fasta\", \"fasta\")\n",
    "\n",
    "first_record = next(record_iterator)\n",
    "print(first_record.id)\n",
    "print(first_record.description)\n",
    "\n",
    "second_record = next(record_iterator)\n",
    "print(second_record.id)\n",
    "print(second_record.description)\n",
    "\n",
    "lonely_record = next(SeqIO.parse(\"sarscov2.gbk\", \"genbank\"))"
   ]
  },
  {
   "cell_type": "code",
   "execution_count": 4,
   "metadata": {},
   "outputs": [
    {
     "name": "stdout",
     "output_type": "stream",
     "text": [
      "Found 5 records\n",
      "The last record\n",
      "MT161607.1\n",
      "Seq('TACCTTCCCAGGTAACAAACCAACCAACTTTCGATCTCTTGTAGATCTGTTCTC...AAA', IUPACAmbiguousDNA())\n",
      "253\n",
      "The first record\n",
      "MT081068.1\n",
      "Seq('ATGTCTGATAATGGACCCCAAAATCAGCGAAATGCACCCCGCATTACGTTTGGT...TAA', IUPACAmbiguousDNA())\n",
      "1260\n"
     ]
    }
   ],
   "source": [
    "# 5.1.3\n",
    "\n",
    "records = list(SeqIO.parse(\"sarscov2.gbk\", \"genbank\"))\n",
    "\n",
    "print(\"Found %i records\" % len(records))\n",
    "\n",
    "print(\"The last record\")\n",
    "last_record = records[-1]  # using Python's list tricks\n",
    "print(last_record.id)\n",
    "print(repr(last_record.seq))\n",
    "print(len(last_record))\n",
    "\n",
    "print(\"The first record\")\n",
    "first_record = records[0]  # remember, Python counts from zero\n",
    "print(first_record.id)\n",
    "print(repr(first_record.seq))\n",
    "print(len(first_record))"
   ]
  },
  {
   "cell_type": "code",
   "execution_count": 5,
   "metadata": {},
   "outputs": [
    {
     "name": "stdout",
     "output_type": "stream",
     "text": [
      "ID: MT081068.1\n",
      "Name: MT081068\n",
      "Description: Severe acute respiratory syndrome coronavirus 2 isolate SARS-CoV-2/HS_194/human/2020/CHN nucleocapsid phosphoprotein (N) gene, complete cds\n",
      "Number of features: 3\n",
      "/molecule_type=RNA\n",
      "/topology=linear\n",
      "/data_file_division=VRL\n",
      "/date=20-FEB-2020\n",
      "/accessions=['MT081068']\n",
      "/sequence_version=1\n",
      "/keywords=['']\n",
      "/source=Severe acute respiratory syndrome coronavirus 2 (SARS-CoV-2)\n",
      "/organism=Severe acute respiratory syndrome coronavirus 2\n",
      "/taxonomy=['Viruses', 'Riboviria', 'Nidovirales', 'Cornidovirineae', 'Coronaviridae', 'Orthocoronavirinae', 'Betacoronavirus', 'Sarbecovirus']\n",
      "/references=[Reference(title='Optimizing diagnostic strategy for novel coronavirus pneumonia, a multi-center study in Eastern China', ...), Reference(title='Direct Submission', ...)]\n",
      "/structured_comment=OrderedDict([('Assembly-Data', OrderedDict([('Assembly Method', 'SPAdes v. v3.13'), ('Sequencing Technology', 'Illumina')]))])\n",
      "Seq('ATGTCTGATAATGGACCCCAAAATCAGCGAAATGCACCCCGCATTACGTTTGGT...TAA', IUPACAmbiguousDNA())\n",
      "{'molecule_type': 'RNA', 'topology': 'linear', 'data_file_division': 'VRL', 'date': '20-FEB-2020', 'accessions': ['MT081068'], 'sequence_version': 1, 'keywords': [''], 'source': 'Severe acute respiratory syndrome coronavirus 2 (SARS-CoV-2)', 'organism': 'Severe acute respiratory syndrome coronavirus 2', 'taxonomy': ['Viruses', 'Riboviria', 'Nidovirales', 'Cornidovirineae', 'Coronaviridae', 'Orthocoronavirinae', 'Betacoronavirus', 'Sarbecovirus'], 'references': [Reference(title='Optimizing diagnostic strategy for novel coronavirus pneumonia, a multi-center study in Eastern China', ...), Reference(title='Direct Submission', ...)], 'structured_comment': OrderedDict([('Assembly-Data', OrderedDict([('Assembly Method', 'SPAdes v. v3.13'), ('Sequencing Technology', 'Illumina')]))])}\n",
      "dict_keys(['molecule_type', 'topology', 'data_file_division', 'date', 'accessions', 'sequence_version', 'keywords', 'source', 'organism', 'taxonomy', 'references', 'structured_comment'])\n",
      "dict_values(['RNA', 'linear', 'VRL', '20-FEB-2020', ['MT081068'], 1, [''], 'Severe acute respiratory syndrome coronavirus 2 (SARS-CoV-2)', 'Severe acute respiratory syndrome coronavirus 2', ['Viruses', 'Riboviria', 'Nidovirales', 'Cornidovirineae', 'Coronaviridae', 'Orthocoronavirinae', 'Betacoronavirus', 'Sarbecovirus'], [Reference(title='Optimizing diagnostic strategy for novel coronavirus pneumonia, a multi-center study in Eastern China', ...), Reference(title='Direct Submission', ...)], OrderedDict([('Assembly-Data', OrderedDict([('Assembly Method', 'SPAdes v. v3.13'), ('Sequencing Technology', 'Illumina')]))])])\n",
      "Severe acute respiratory syndrome coronavirus 2 (SARS-CoV-2)\n",
      "Severe acute respiratory syndrome coronavirus 2\n",
      "['Severe acute respiratory syndrome coronavirus 2', 'Severe acute respiratory syndrome coronavirus 2', 'Severe acute respiratory syndrome coronavirus 2', 'Severe acute respiratory syndrome coronavirus 2', 'Severe acute respiratory syndrome coronavirus 2']\n",
      "['Severe', 'Severe', 'Severe', 'Severe', 'Severe']\n"
     ]
    }
   ],
   "source": [
    "# 5.1.4\n",
    "\n",
    "record_iterator = SeqIO.parse(\"sarscov2.gbk\", \"genbank\")\n",
    "first_record = next(record_iterator)\n",
    "print(first_record)\n",
    "\n",
    "print(first_record.annotations)\n",
    "print(first_record.annotations.keys())\n",
    "print(first_record.annotations.values())\n",
    "\n",
    "print(first_record.annotations[\"source\"])\n",
    "print(first_record.annotations[\"organism\"])\n",
    "\n",
    "all_species_g = []\n",
    "for seq_record in SeqIO.parse(\"sarscov2.gbk\", \"genbank\"):\n",
    "    all_species_g.append(seq_record.annotations[\"organism\"])\n",
    "print(all_species_g)\n",
    "\n",
    "all_species_f = []\n",
    "for seq_record in SeqIO.parse(\"sarscov2.fasta\", \"fasta\"):\n",
    "    all_species_f.append(seq_record.description.split()[1])\n",
    "print(all_species_f)\n",
    "\n"
   ]
  },
  {
   "cell_type": "code",
   "execution_count": 6,
   "metadata": {},
   "outputs": [
    {
     "name": "stdout",
     "output_type": "stream",
     "text": [
      ">new_id desired new description\n",
      "ATGTCTGATAATGGACCCCAAAATCAGCGAAATGCACCCCGCATTACGTTTGGTGGACCC\n",
      "TCAGATTCAACTGGCAGTAACCAGAATGGAGAACGCAGTGGGGCGCGATCAAAACAACGT\n",
      "CGGCCCCAAGGTTTACCCAATAATACTGCGTCTTGGTTCACCGCTC\n"
     ]
    }
   ],
   "source": [
    "# 5.1.5\n",
    "\n",
    "record_iterator = SeqIO.parse(\"sarscov2.fasta\", \"fasta\")\n",
    "first_record = next(record_iterator)\n",
    "first_record.id\n",
    "first_record.id = \"new_id\"\n",
    "first_record.id\n",
    "\n",
    "record_iterator = SeqIO.parse(\"sarscov2.fasta\", \"fasta\")\n",
    "first_record = next(record_iterator)\n",
    "first_record.id = \"new_id\"\n",
    "first_record.description = first_record.id + \" \" + \"desired new description\"\n",
    "print(first_record.format(\"fasta\")[:200])"
   ]
  },
  {
   "cell_type": "markdown",
   "metadata": {},
   "source": [
    "## 5.2 Parsing Sequences from Compressed Files"
   ]
  },
  {
   "cell_type": "code",
   "execution_count": 10,
   "metadata": {},
   "outputs": [
    {
     "name": "stdout",
     "output_type": "stream",
     "text": [
      "3035\n",
      "3035\n",
      "3035\n"
     ]
    }
   ],
   "source": [
    "# 5.2\n",
    "\n",
    "print(sum(len(r) for r in SeqIO.parse(\"sarscov2.gbk\", \"gb\")))\n",
    "\n",
    "with open(\"sarscov2.gbk\") as handle:\n",
    "    print(sum(len(r) for r in SeqIO.parse(handle, \"gb\")))\n",
    "\n",
    "# making gzip file\n",
    "import gzip\n",
    "sc2 = open(\"sarscov2.gbk\", \"rb\")\n",
    "zipdata = sc2.read()\n",
    "bindata = bytearray(zipdata)\n",
    "with gzip.open(\"sarscov2.gbk.gz\", \"wb\") as zipfile:\n",
    "    zipfile.write(bindata)\n",
    "\n",
    "with gzip.open(\"sarscov2.gbk.gz\", \"rt\") as handle:\n",
    "    print(sum(len(r) for r in SeqIO.parse(handle, \"gb\")))\n"
   ]
  },
  {
   "cell_type": "markdown",
   "metadata": {},
   "source": [
    "## 5.3 Parsing Sequenced from the Net"
   ]
  },
  {
   "cell_type": "code",
   "execution_count": null,
   "metadata": {},
   "outputs": [],
   "source": [
    "# 5.3.1\n",
    "\n",
    "Entrez.email = \"geneva.porter@gmail.com\"\n",
    "with Entrez.efetch(\n",
    "    db=\"nucleotide\", rettype=\"fasta\", retmode=\"text\", id=\"6273291\"\n",
    ") as handle:\n",
    "    seq_record = SeqIO.read(handle, \"fasta\")\n",
    "print(\"%s with %i features\" % (seq_record.id, len(seq_record.features)))"
   ]
  },
  {
   "cell_type": "code",
   "execution_count": null,
   "metadata": {},
   "outputs": [],
   "source": [
    "# 5.3.2"
   ]
  },
  {
   "cell_type": "markdown",
   "metadata": {},
   "source": [
    "## 5.4 Sequence files as Dictionaries"
   ]
  },
  {
   "cell_type": "code",
   "execution_count": null,
   "metadata": {},
   "outputs": [],
   "source": [
    "# 5.4.1"
   ]
  },
  {
   "cell_type": "code",
   "execution_count": null,
   "metadata": {},
   "outputs": [],
   "source": [
    "# 5.4.1.1"
   ]
  },
  {
   "cell_type": "code",
   "execution_count": null,
   "metadata": {},
   "outputs": [],
   "source": [
    "# 5.4.1.2"
   ]
  },
  {
   "cell_type": "code",
   "execution_count": null,
   "metadata": {},
   "outputs": [],
   "source": [
    "# 5.4.2"
   ]
  },
  {
   "cell_type": "code",
   "execution_count": null,
   "metadata": {},
   "outputs": [],
   "source": [
    "# 5.4.2.1"
   ]
  },
  {
   "cell_type": "code",
   "execution_count": null,
   "metadata": {},
   "outputs": [],
   "source": [
    "# 5.4.2.2"
   ]
  },
  {
   "cell_type": "code",
   "execution_count": null,
   "metadata": {},
   "outputs": [],
   "source": [
    "# 5.4.3"
   ]
  },
  {
   "cell_type": "code",
   "execution_count": null,
   "metadata": {},
   "outputs": [],
   "source": [
    "# 5.4.3.2"
   ]
  },
  {
   "cell_type": "code",
   "execution_count": null,
   "metadata": {},
   "outputs": [],
   "source": [
    "# 5.4.4"
   ]
  },
  {
   "cell_type": "code",
   "execution_count": null,
   "metadata": {},
   "outputs": [],
   "source": [
    "# 5.4.5"
   ]
  },
  {
   "cell_type": "markdown",
   "metadata": {},
   "source": [
    "## 5.5 Writing Sequence Files"
   ]
  },
  {
   "cell_type": "code",
   "execution_count": null,
   "metadata": {},
   "outputs": [],
   "source": [
    "# 5.5.1"
   ]
  },
  {
   "cell_type": "code",
   "execution_count": null,
   "metadata": {},
   "outputs": [],
   "source": [
    "# 5.5.2"
   ]
  },
  {
   "cell_type": "code",
   "execution_count": null,
   "metadata": {},
   "outputs": [],
   "source": [
    "# 5.5.3"
   ]
  },
  {
   "cell_type": "code",
   "execution_count": null,
   "metadata": {},
   "outputs": [],
   "source": []
  },
  {
   "cell_type": "code",
   "execution_count": null,
   "metadata": {},
   "outputs": [],
   "source": []
  },
  {
   "cell_type": "code",
   "execution_count": null,
   "metadata": {},
   "outputs": [],
   "source": []
  },
  {
   "cell_type": "code",
   "execution_count": null,
   "metadata": {},
   "outputs": [],
   "source": []
  },
  {
   "cell_type": "code",
   "execution_count": null,
   "metadata": {},
   "outputs": [],
   "source": []
  },
  {
   "cell_type": "code",
   "execution_count": null,
   "metadata": {},
   "outputs": [],
   "source": []
  },
  {
   "cell_type": "code",
   "execution_count": null,
   "metadata": {},
   "outputs": [],
   "source": []
  },
  {
   "cell_type": "code",
   "execution_count": null,
   "metadata": {},
   "outputs": [],
   "source": []
  },
  {
   "cell_type": "code",
   "execution_count": null,
   "metadata": {},
   "outputs": [],
   "source": []
  },
  {
   "cell_type": "code",
   "execution_count": null,
   "metadata": {},
   "outputs": [],
   "source": []
  },
  {
   "cell_type": "code",
   "execution_count": null,
   "metadata": {},
   "outputs": [],
   "source": []
  },
  {
   "cell_type": "code",
   "execution_count": null,
   "metadata": {},
   "outputs": [],
   "source": []
  }
 ],
 "metadata": {
  "kernelspec": {
   "display_name": "Python 3",
   "language": "python",
   "name": "python3"
  },
  "language_info": {
   "codemirror_mode": {
    "name": "ipython",
    "version": 3
   },
   "file_extension": ".py",
   "mimetype": "text/x-python",
   "name": "python",
   "nbconvert_exporter": "python",
   "pygments_lexer": "ipython3",
   "version": "3.7.3"
  }
 },
 "nbformat": 4,
 "nbformat_minor": 2
}
