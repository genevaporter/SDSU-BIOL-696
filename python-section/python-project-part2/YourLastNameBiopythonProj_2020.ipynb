{
 "cells": [
  {
   "cell_type": "markdown",
   "metadata": {},
   "source": [
    "# Python Project Part 2: Data Parsing with Biopython"
   ]
  },
  {
   "cell_type": "markdown",
   "metadata": {},
   "source": [
    "## Based in the Biopython tutorial Chapter 2, 5: Parsing sequence files\n",
    "Focus on Sars-COV-2 data"
   ]
  },
  {
   "cell_type": "code",
   "execution_count": 1,
   "metadata": {},
   "outputs": [],
   "source": [
    "from Bio import SeqIO"
   ]
  },
  {
   "cell_type": "markdown",
   "metadata": {},
   "source": [
    "Try these examples from Chapter 2, Sections 2.4.1 - 2.4.2\n",
    "Then complete the exercises in Chapter 5 up to and including section 5.5.3\n",
    "Note: You will need to make some compressed verions of the files\n",
    "      and for the downloaded files in the exercise, use the examples in the tutorial."
   ]
  },
  {
   "cell_type": "code",
   "execution_count": 4,
   "metadata": {},
   "outputs": [
    {
     "name": "stdout",
     "output_type": "stream",
     "text": [
      "MT081068.1\n",
      "Seq('ATGTCTGATAATGGACCCCAAAATCAGCGAAATGCACCCCGCATTACGTTTGGT...TAA', SingleLetterAlphabet())\n",
      "1260\n",
      "MT072667.1\n",
      "Seq('GTAGATGCTGTAAATTTACTTACTAATATGTTTACACCACTAATTCAACCTATT...ACT', SingleLetterAlphabet())\n",
      "670\n",
      "MT066159.1\n",
      "Seq('TAAACACCTCATACCACTTATGTACAAAGGACTTCCTTGGAATGTAGTGCGTAT...TTG', SingleLetterAlphabet())\n",
      "290\n",
      "MT050416.1\n",
      "Seq('TGATAGAGCCATGCCTAACATGCTTAGAATTATGGCCTCACTTGTTCTTGCTCG...CCT', SingleLetterAlphabet())\n",
      "562\n",
      "MT161607.1\n",
      "Seq('TACCTTCCCAGGTAACAAACCAACCAACTTTCGATCTCTTGTAGATCTGTTCTC...AAA', SingleLetterAlphabet())\n",
      "253\n"
     ]
    }
   ],
   "source": [
    "for seq_record in SeqIO.parse(\"sarscov2.fasta\", \"fasta\"):\n",
    "    print(seq_record.id)\n",
    "    print(repr(seq_record.seq))\n",
    "    print(len(seq_record))"
   ]
  },
  {
   "cell_type": "code",
   "execution_count": 5,
   "metadata": {},
   "outputs": [
    {
     "name": "stdout",
     "output_type": "stream",
     "text": [
      "MT081068.1\n",
      "Seq('ATGTCTGATAATGGACCCCAAAATCAGCGAAATGCACCCCGCATTACGTTTGGT...TAA', IUPACAmbiguousDNA())\n",
      "1260\n",
      "MT072667.1\n",
      "Seq('GTAGATGCTGTAAATTTACTTACTAATATGTTTACACCACTAATTCAACCTATT...ACT', IUPACAmbiguousDNA())\n",
      "670\n",
      "MT066159.1\n",
      "Seq('TAAACACCTCATACCACTTATGTACAAAGGACTTCCTTGGAATGTAGTGCGTAT...TTG', IUPACAmbiguousDNA())\n",
      "290\n",
      "MT050416.1\n",
      "Seq('TGATAGAGCCATGCCTAACATGCTTAGAATTATGGCCTCACTTGTTCTTGCTCG...CCT', IUPACAmbiguousDNA())\n",
      "562\n",
      "MT161607.1\n",
      "Seq('TACCTTCCCAGGTAACAAACCAACCAACTTTCGATCTCTTGTAGATCTGTTCTC...AAA', IUPACAmbiguousDNA())\n",
      "253\n"
     ]
    }
   ],
   "source": [
    "for seq_record in SeqIO.parse(\"sarscov2.gbk\", \"genbank\"):\n",
    "    print(seq_record.id)\n",
    "    print(repr(seq_record.seq))\n",
    "    print(len(seq_record))"
   ]
  },
  {
   "cell_type": "markdown",
   "metadata": {},
   "source": [
    "# CHAPTER 5 Tutorial Below"
   ]
  },
  {
   "cell_type": "markdown",
   "metadata": {},
   "source": [
    "Sections 5.1 to 5.5.3\n",
    "Make sure to put in a few notes with the markdown language. Briefly explain what each part is doing."
   ]
  },
  {
   "cell_type": "code",
   "execution_count": 13,
   "metadata": {},
   "outputs": [
    {
     "data": {
      "text/plain": [
       "['MT081068.1', 'MT072667.1', 'MT066159.1', 'MT050416.1', 'MT161607.1']"
      ]
     },
     "execution_count": 13,
     "metadata": {},
     "output_type": "execute_result"
    }
   ],
   "source": [
    "identifiers = [seq_record.id for seq_record in SeqIO.parse(\"sarscov2.gbk\", \"genbank\")]\n",
    "identifiers"
   ]
  },
  {
   "cell_type": "code",
   "execution_count": null,
   "metadata": {},
   "outputs": [],
   "source": []
  }
 ],
 "metadata": {
  "kernelspec": {
   "display_name": "Python 3",
   "language": "python",
   "name": "python3"
  },
  "language_info": {
   "codemirror_mode": {
    "name": "ipython",
    "version": 3
   },
   "file_extension": ".py",
   "mimetype": "text/x-python",
   "name": "python",
   "nbconvert_exporter": "python",
   "pygments_lexer": "ipython3",
   "version": "3.7.4"
  }
 },
 "nbformat": 4,
 "nbformat_minor": 2
}
