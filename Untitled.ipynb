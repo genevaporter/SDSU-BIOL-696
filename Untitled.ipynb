{
 "cells": [
  {
   "cell_type": "code",
   "execution_count": 1,
   "metadata": {},
   "outputs": [
    {
     "name": "stderr",
     "output_type": "stream",
     "text": [
      "Updating HTML index of packages in '.Library'\n",
      "Making 'packages.html' ... done\n",
      "Bioconductor version 3.8 (BiocManager 1.30.10), R 3.5.1 (2018-07-02)\n",
      "Installing package(s) 'BiocVersion', 'multtest'\n",
      "also installing the dependencies ‘BiocGenerics’, ‘Biobase’, ‘survival’\n",
      "\n",
      "Updating HTML index of packages in '.Library'\n",
      "Making 'packages.html' ... done\n",
      "Old packages: 'backports', 'callr', 'digest', 'fs', 'glue', 'htmltools',\n",
      "  'IRdisplay', 'IRkernel', 'lattice', 'lubridate', 'quantreg', 'Rcpp', 'repr',\n",
      "  'reshape2', 'stringi', 'tibble', 'tinytex', 'uuid', 'xml2'\n",
      "Warning message:\n",
      "“dependency ‘caTools’ is not available”also installing the dependencies ‘mnormt’, ‘numDeriv’, ‘TH.data’, ‘sandwich’, ‘lsei’, ‘codetools’, ‘bibtex’, ‘gbRd’, ‘sn’, ‘plotrix’, ‘multcomp’, ‘later’, ‘gtools’, ‘gdata’, ‘sitmo’, ‘npsurv’, ‘globals’, ‘listenv’, ‘curl’, ‘zoo’, ‘Rdpack’, ‘TFisher’, ‘mutoss’, ‘htmlwidgets’, ‘hexbin’, ‘lazyeval’, ‘crosstalk’, ‘data.table’, ‘promises’, ‘rappdirs’, ‘gplots’, ‘gridExtra’, ‘FNN’, ‘RSpectra’, ‘dqrng’, ‘cowplot’, ‘fitdistrplus’, ‘future’, ‘future.apply’, ‘ggrepel’, ‘ggridges’, ‘httr’, ‘ica’, ‘igraph’, ‘irlba’, ‘KernSmooth’, ‘leiden’, ‘lmtest’, ‘metap’, ‘patchwork’, ‘pbapply’, ‘plotly’, ‘png’, ‘RANN’, ‘RcppAnnoy’, ‘reticulate’, ‘ROCR’, ‘rsvd’, ‘Rtsne’, ‘sctransform’, ‘tsne’, ‘uwot’, ‘RcppEigen’, ‘RcppProgress’\n",
      "\n",
      "Warning message in install.packages(\"Seurat\"):\n",
      "“installation of package ‘curl’ had non-zero exit status”Warning message in install.packages(\"Seurat\"):\n",
      "“installation of package ‘httr’ had non-zero exit status”Warning message in install.packages(\"Seurat\"):\n",
      "“installation of package ‘gplots’ had non-zero exit status”Warning message in install.packages(\"Seurat\"):\n",
      "“installation of package ‘plotly’ had non-zero exit status”Warning message in install.packages(\"Seurat\"):\n",
      "“installation of package ‘ROCR’ had non-zero exit status”Warning message in install.packages(\"Seurat\"):\n",
      "“installation of package ‘Seurat’ had non-zero exit status”Updating HTML index of packages in '.Library'\n",
      "Making 'packages.html' ... done\n"
     ]
    },
    {
     "ename": "ERROR",
     "evalue": "Error in library(Seurat): there is no package called ‘Seurat’\n",
     "output_type": "error",
     "traceback": [
      "Error in library(Seurat): there is no package called ‘Seurat’\nTraceback:\n",
      "1. library(Seurat)",
      "2. stop(txt, domain = NA)"
     ]
    }
   ],
   "source": [
    "install.packages('BiocManager')\n",
    "BiocManager::install('multtest')\n",
    "install.packages('Seurat')\n",
    "library(Seurat)"
   ]
  },
  {
   "cell_type": "code",
   "execution_count": null,
   "metadata": {},
   "outputs": [],
   "source": []
  }
 ],
 "metadata": {
  "kernelspec": {
   "display_name": "R",
   "language": "R",
   "name": "ir"
  },
  "language_info": {
   "codemirror_mode": "r",
   "file_extension": ".r",
   "mimetype": "text/x-r-source",
   "name": "R",
   "pygments_lexer": "r",
   "version": "3.5.1"
  }
 },
 "nbformat": 4,
 "nbformat_minor": 2
}
