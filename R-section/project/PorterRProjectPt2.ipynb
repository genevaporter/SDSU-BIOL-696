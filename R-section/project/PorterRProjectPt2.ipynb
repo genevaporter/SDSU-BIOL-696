{
 "cells": [
  {
   "cell_type": "markdown",
   "metadata": {},
   "source": [
    "# R Project Part 1 , BIOL-696, SDSU\n",
    "## Geneva Porter, 13 March 2020 "
   ]
  },
  {
   "cell_type": "code",
   "execution_count": null,
   "metadata": {},
   "outputs": [],
   "source": [
    "install.packages(\"picante\", dependencies=TRUE)\n",
    "library(picante)\n",
    "\n",
    "# Remarks about each task are given at the end of each section."
   ]
  }
 ],
 "metadata": {
  "kernelspec": {
   "display_name": "R",
   "language": "R",
   "name": "ir"
  },
  "language_info": {
   "codemirror_mode": "r",
   "file_extension": ".r",
   "mimetype": "text/x-r-source",
   "name": "R",
   "pygments_lexer": "r",
   "version": "3.5.1"
  }
 },
 "nbformat": 4,
 "nbformat_minor": 2
}
